{
 "cells": [
  {
   "cell_type": "code",
   "execution_count": 1,
   "id": "e93e523a",
   "metadata": {},
   "outputs": [],
   "source": [
    "import pandas as pd\n",
    "import numpy as np\n",
    "from sklearn.feature_extraction.text import CountVectorizer\n",
    "from sklearn.metrics.pairwise import cosine_similarity\n",
    "import matplotlib.pyplot as plt"
   ]
  },
  {
   "cell_type": "code",
   "execution_count": 2,
   "id": "52f68172",
   "metadata": {},
   "outputs": [
    {
     "data": {
      "text/html": [
       "<div>\n",
       "<style scoped>\n",
       "    .dataframe tbody tr th:only-of-type {\n",
       "        vertical-align: middle;\n",
       "    }\n",
       "\n",
       "    .dataframe tbody tr th {\n",
       "        vertical-align: top;\n",
       "    }\n",
       "\n",
       "    .dataframe thead th {\n",
       "        text-align: right;\n",
       "    }\n",
       "</style>\n",
       "<table border=\"1\" class=\"dataframe\">\n",
       "  <thead>\n",
       "    <tr style=\"text-align: right;\">\n",
       "      <th></th>\n",
       "      <th>indexValue</th>\n",
       "      <th>studentID</th>\n",
       "      <th>gender</th>\n",
       "      <th>stream</th>\n",
       "      <th>subject</th>\n",
       "      <th>marks</th>\n",
       "      <th>course</th>\n",
       "    </tr>\n",
       "  </thead>\n",
       "  <tbody>\n",
       "    <tr>\n",
       "      <th>0</th>\n",
       "      <td>0</td>\n",
       "      <td>12245</td>\n",
       "      <td>male</td>\n",
       "      <td>science</td>\n",
       "      <td>physics</td>\n",
       "      <td>48</td>\n",
       "      <td>btech</td>\n",
       "    </tr>\n",
       "    <tr>\n",
       "      <th>1</th>\n",
       "      <td>1</td>\n",
       "      <td>12246</td>\n",
       "      <td>male</td>\n",
       "      <td>science</td>\n",
       "      <td>chemistry</td>\n",
       "      <td>58</td>\n",
       "      <td>bsc</td>\n",
       "    </tr>\n",
       "    <tr>\n",
       "      <th>2</th>\n",
       "      <td>2</td>\n",
       "      <td>12247</td>\n",
       "      <td>female</td>\n",
       "      <td>commerce</td>\n",
       "      <td>math</td>\n",
       "      <td>78</td>\n",
       "      <td>bsc</td>\n",
       "    </tr>\n",
       "    <tr>\n",
       "      <th>3</th>\n",
       "      <td>3</td>\n",
       "      <td>12248</td>\n",
       "      <td>male</td>\n",
       "      <td>science</td>\n",
       "      <td>physics</td>\n",
       "      <td>47</td>\n",
       "      <td>btech</td>\n",
       "    </tr>\n",
       "    <tr>\n",
       "      <th>4</th>\n",
       "      <td>4</td>\n",
       "      <td>12249</td>\n",
       "      <td>male</td>\n",
       "      <td>commerce</td>\n",
       "      <td>economics</td>\n",
       "      <td>46</td>\n",
       "      <td>bcom</td>\n",
       "    </tr>\n",
       "    <tr>\n",
       "      <th>5</th>\n",
       "      <td>5</td>\n",
       "      <td>12250</td>\n",
       "      <td>female</td>\n",
       "      <td>commerce</td>\n",
       "      <td>math</td>\n",
       "      <td>97</td>\n",
       "      <td>bsc</td>\n",
       "    </tr>\n",
       "    <tr>\n",
       "      <th>6</th>\n",
       "      <td>6</td>\n",
       "      <td>12251</td>\n",
       "      <td>female</td>\n",
       "      <td>science</td>\n",
       "      <td>chemistry</td>\n",
       "      <td>67</td>\n",
       "      <td>btech</td>\n",
       "    </tr>\n",
       "    <tr>\n",
       "      <th>7</th>\n",
       "      <td>7</td>\n",
       "      <td>12252</td>\n",
       "      <td>female</td>\n",
       "      <td>science</td>\n",
       "      <td>physics</td>\n",
       "      <td>76</td>\n",
       "      <td>btech</td>\n",
       "    </tr>\n",
       "    <tr>\n",
       "      <th>8</th>\n",
       "      <td>8</td>\n",
       "      <td>12253</td>\n",
       "      <td>female</td>\n",
       "      <td>humanities</td>\n",
       "      <td>history</td>\n",
       "      <td>67</td>\n",
       "      <td>ba</td>\n",
       "    </tr>\n",
       "    <tr>\n",
       "      <th>9</th>\n",
       "      <td>9</td>\n",
       "      <td>12254</td>\n",
       "      <td>male</td>\n",
       "      <td>science</td>\n",
       "      <td>physics</td>\n",
       "      <td>47</td>\n",
       "      <td>btech</td>\n",
       "    </tr>\n",
       "  </tbody>\n",
       "</table>\n",
       "</div>"
      ],
      "text/plain": [
       "   indexValue  studentID  gender      stream    subject  marks course\n",
       "0           0      12245    male     science    physics     48  btech\n",
       "1           1      12246    male     science  chemistry     58    bsc\n",
       "2           2      12247  female    commerce       math     78    bsc\n",
       "3           3      12248    male     science    physics     47  btech\n",
       "4           4      12249    male    commerce  economics     46   bcom\n",
       "5           5      12250  female    commerce       math     97    bsc\n",
       "6           6      12251  female     science  chemistry     67  btech\n",
       "7           7      12252  female     science    physics     76  btech\n",
       "8           8      12253  female  humanities    history     67     ba\n",
       "9           9      12254    male     science    physics     47  btech"
      ]
     },
     "execution_count": 2,
     "metadata": {},
     "output_type": "execute_result"
    }
   ],
   "source": [
    "courses = pd.read_csv(\"dataset.csv\")\n",
    "courses = courses.drop_duplicates()\n",
    "courses.head(10)"
   ]
  },
  {
   "cell_type": "code",
   "execution_count": 3,
   "id": "980e13df",
   "metadata": {},
   "outputs": [
    {
     "data": {
      "text/plain": [
       "Index(['indexValue', 'studentID', 'gender', 'stream', 'subject', 'marks',\n",
       "       'course'],\n",
       "      dtype='object')"
      ]
     },
     "execution_count": 3,
     "metadata": {},
     "output_type": "execute_result"
    }
   ],
   "source": [
    "courses.columns"
   ]
  },
  {
   "cell_type": "code",
   "execution_count": 4,
   "id": "a8f87f6e",
   "metadata": {},
   "outputs": [
    {
     "name": "stdout",
     "output_type": "stream",
     "text": [
      "<class 'pandas.core.frame.DataFrame'>\n",
      "Int64Index: 109 entries, 0 to 108\n",
      "Data columns (total 7 columns):\n",
      " #   Column      Non-Null Count  Dtype \n",
      "---  ------      --------------  ----- \n",
      " 0   indexValue  109 non-null    int64 \n",
      " 1   studentID   109 non-null    int64 \n",
      " 2   gender      109 non-null    object\n",
      " 3   stream      109 non-null    object\n",
      " 4   subject     109 non-null    object\n",
      " 5   marks       109 non-null    int64 \n",
      " 6   course      109 non-null    object\n",
      "dtypes: int64(3), object(4)\n",
      "memory usage: 6.8+ KB\n"
     ]
    }
   ],
   "source": [
    "courses.info()"
   ]
  },
  {
   "cell_type": "code",
   "execution_count": 5,
   "id": "12dd9018",
   "metadata": {},
   "outputs": [
    {
     "data": {
      "text/plain": [
       "<AxesSubplot:xlabel='course'>"
      ]
     },
     "execution_count": 5,
     "metadata": {},
     "output_type": "execute_result"
    },
    {
     "data": {
      "image/png": "[encoded data removed]",
      "text/plain": [
       "<Figure size 432x288 with 1 Axes>"
      ]
     },
     "metadata": {
      "needs_background": "light"
     },
     "output_type": "display_data"
    }
   ],
   "source": [
    "courses_group= courses.groupby('course')['studentID'].count().sort_values(ascending=False).head(30)\n",
    "courses_group.plot.bar()"
   ]
  },
  {
   "cell_type": "code",
   "execution_count": 6,
   "id": "d8628d0c",
   "metadata": {},
   "outputs": [
    {
     "data": {
      "text/plain": [
       "<AxesSubplot:ylabel='Frequency'>"
      ]
     },
     "execution_count": 6,
     "metadata": {},
     "output_type": "execute_result"
    },
    {
     "data": {
      "image/png": "[encoded data removed]",
      "text/plain": [
       "<Figure size 432x288 with 1 Axes>"
      ]
     },
     "metadata": {
      "needs_background": "light"
     },
     "output_type": "display_data"
    }
   ],
   "source": [
    "marks_rate = courses[courses['marks']<99]\n",
    "courses['marks'].plot.hist()"
   ]
  },
  {
   "cell_type": "code",
   "execution_count": 7,
   "id": "53de5ec7",
   "metadata": {},
   "outputs": [
    {
     "data": {
      "text/plain": [
       "<AxesSubplot:ylabel='studentID'>"
      ]
     },
     "execution_count": 7,
     "metadata": {},
     "output_type": "execute_result"
    },
    {
     "data": {
      "image/png": "[encoded data removed]",
      "text/plain": [
       "<Figure size 432x288 with 1 Axes>"
      ]
     },
     "metadata": {},
     "output_type": "display_data"
    }
   ],
   "source": [
    "courses.groupby('course')['studentID'].count().plot.pie(autopct = \"%1.1f%%\")"
   ]
  },
  {
   "cell_type": "code",
   "execution_count": 8,
   "id": "52668411",
   "metadata": {},
   "outputs": [
    {
     "data": {
      "text/plain": [
       "<AxesSubplot:xlabel='subject'>"
      ]
     },
     "execution_count": 8,
     "metadata": {},
     "output_type": "execute_result"
    },
    {
     "data": {
      "image/png": "[encoded data removed]",
      "text/plain": [
       "<Figure size 432x288 with 1 Axes>"
      ]
     },
     "metadata": {
      "needs_background": "light"
     },
     "output_type": "display_data"
    }
   ],
   "source": [
    " courses.groupby('subject')['studentID'].count().plot.bar()\n"
   ]
  },
  {
   "cell_type": "code",
   "execution_count": 9,
   "id": "4cb09ec6",
   "metadata": {},
   "outputs": [],
   "source": [
    "selected_features = ['studentID','subject',]\n",
    "for feature in selected_features:\n",
    "    courses[feature] = courses[feature].fillna('')"
   ]
  },
  {
   "cell_type": "code",
   "execution_count": 10,
   "id": "8a40efa0",
   "metadata": {},
   "outputs": [],
   "source": [
    "def combine_col(row):\n",
    "    courses_rate =str(row['marks']) \n",
    "    student_id = str(row['studentID'])\n",
    "    combine_features =student_id+' ' +row['subject']\n",
    "    return combine_features\n",
    "courses[\"studentID with subject\"] = courses.apply(combine_col, axis=1) "
   ]
  },
  {
   "cell_type": "code",
   "execution_count": 11,
   "id": "a0b92c4a",
   "metadata": {},
   "outputs": [
    {
     "data": {
      "text/html": [
       "<div>\n",
       "<style scoped>\n",
       "    .dataframe tbody tr th:only-of-type {\n",
       "        vertical-align: middle;\n",
       "    }\n",
       "\n",
       "    .dataframe tbody tr th {\n",
       "        vertical-align: top;\n",
       "    }\n",
       "\n",
       "    .dataframe thead th {\n",
       "        text-align: right;\n",
       "    }\n",
       "</style>\n",
       "<table border=\"1\" class=\"dataframe\">\n",
       "  <thead>\n",
       "    <tr style=\"text-align: right;\">\n",
       "      <th></th>\n",
       "      <th>indexValue</th>\n",
       "      <th>studentID</th>\n",
       "      <th>gender</th>\n",
       "      <th>stream</th>\n",
       "      <th>subject</th>\n",
       "      <th>marks</th>\n",
       "      <th>course</th>\n",
       "      <th>studentID with subject</th>\n",
       "    </tr>\n",
       "  </thead>\n",
       "  <tbody>\n",
       "    <tr>\n",
       "      <th>0</th>\n",
       "      <td>0</td>\n",
       "      <td>12245</td>\n",
       "      <td>male</td>\n",
       "      <td>science</td>\n",
       "      <td>physics</td>\n",
       "      <td>48</td>\n",
       "      <td>btech</td>\n",
       "      <td>12245 physics</td>\n",
       "    </tr>\n",
       "    <tr>\n",
       "      <th>1</th>\n",
       "      <td>1</td>\n",
       "      <td>12246</td>\n",
       "      <td>male</td>\n",
       "      <td>science</td>\n",
       "      <td>chemistry</td>\n",
       "      <td>58</td>\n",
       "      <td>bsc</td>\n",
       "      <td>12246 chemistry</td>\n",
       "    </tr>\n",
       "    <tr>\n",
       "      <th>2</th>\n",
       "      <td>2</td>\n",
       "      <td>12247</td>\n",
       "      <td>female</td>\n",
       "      <td>commerce</td>\n",
       "      <td>math</td>\n",
       "      <td>78</td>\n",
       "      <td>bsc</td>\n",
       "      <td>12247 math</td>\n",
       "    </tr>\n",
       "    <tr>\n",
       "      <th>3</th>\n",
       "      <td>3</td>\n",
       "      <td>12248</td>\n",
       "      <td>male</td>\n",
       "      <td>science</td>\n",
       "      <td>physics</td>\n",
       "      <td>47</td>\n",
       "      <td>btech</td>\n",
       "      <td>12248 physics</td>\n",
       "    </tr>\n",
       "    <tr>\n",
       "      <th>4</th>\n",
       "      <td>4</td>\n",
       "      <td>12249</td>\n",
       "      <td>male</td>\n",
       "      <td>commerce</td>\n",
       "      <td>economics</td>\n",
       "      <td>46</td>\n",
       "      <td>bcom</td>\n",
       "      <td>12249 economics</td>\n",
       "    </tr>\n",
       "    <tr>\n",
       "      <th>5</th>\n",
       "      <td>5</td>\n",
       "      <td>12250</td>\n",
       "      <td>female</td>\n",
       "      <td>commerce</td>\n",
       "      <td>math</td>\n",
       "      <td>97</td>\n",
       "      <td>bsc</td>\n",
       "      <td>12250 math</td>\n",
       "    </tr>\n",
       "    <tr>\n",
       "      <th>6</th>\n",
       "      <td>6</td>\n",
       "      <td>12251</td>\n",
       "      <td>female</td>\n",
       "      <td>science</td>\n",
       "      <td>chemistry</td>\n",
       "      <td>67</td>\n",
       "      <td>btech</td>\n",
       "      <td>12251 chemistry</td>\n",
       "    </tr>\n",
       "    <tr>\n",
       "      <th>7</th>\n",
       "      <td>7</td>\n",
       "      <td>12252</td>\n",
       "      <td>female</td>\n",
       "      <td>science</td>\n",
       "      <td>physics</td>\n",
       "      <td>76</td>\n",
       "      <td>btech</td>\n",
       "      <td>12252 physics</td>\n",
       "    </tr>\n",
       "    <tr>\n",
       "      <th>8</th>\n",
       "      <td>8</td>\n",
       "      <td>12253</td>\n",
       "      <td>female</td>\n",
       "      <td>humanities</td>\n",
       "      <td>history</td>\n",
       "      <td>67</td>\n",
       "      <td>ba</td>\n",
       "      <td>12253 history</td>\n",
       "    </tr>\n",
       "    <tr>\n",
       "      <th>9</th>\n",
       "      <td>9</td>\n",
       "      <td>12254</td>\n",
       "      <td>male</td>\n",
       "      <td>science</td>\n",
       "      <td>physics</td>\n",
       "      <td>47</td>\n",
       "      <td>btech</td>\n",
       "      <td>12254 physics</td>\n",
       "    </tr>\n",
       "  </tbody>\n",
       "</table>\n",
       "</div>"
      ],
      "text/plain": [
       "   indexValue  studentID  gender      stream    subject  marks course  \\\n",
       "0           0      12245    male     science    physics     48  btech   \n",
       "1           1      12246    male     science  chemistry     58    bsc   \n",
       "2           2      12247  female    commerce       math     78    bsc   \n",
       "3           3      12248    male     science    physics     47  btech   \n",
       "4           4      12249    male    commerce  economics     46   bcom   \n",
       "5           5      12250  female    commerce       math     97    bsc   \n",
       "6           6      12251  female     science  chemistry     67  btech   \n",
       "7           7      12252  female     science    physics     76  btech   \n",
       "8           8      12253  female  humanities    history     67     ba   \n",
       "9           9      12254    male     science    physics     47  btech   \n",
       "\n",
       "  studentID with subject  \n",
       "0          12245 physics  \n",
       "1        12246 chemistry  \n",
       "2             12247 math  \n",
       "3          12248 physics  \n",
       "4        12249 economics  \n",
       "5             12250 math  \n",
       "6        12251 chemistry  \n",
       "7          12252 physics  \n",
       "8          12253 history  \n",
       "9          12254 physics  "
      ]
     },
     "execution_count": 11,
     "metadata": {},
     "output_type": "execute_result"
    }
   ],
   "source": [
    "courses.head(10)"
   ]
  },
  {
   "cell_type": "code",
   "execution_count": 12,
   "id": "2c15ea53",
   "metadata": {},
   "outputs": [
    {
     "name": "stdout",
     "output_type": "stream",
     "text": [
      "Count Matrix :  [[1 0 0 ... 0 0 1]\n",
      " [0 1 0 ... 0 0 0]\n",
      " [0 0 1 ... 0 1 0]\n",
      " ...\n",
      " [0 0 0 ... 0 0 0]\n",
      " [0 0 0 ... 0 1 0]\n",
      " [0 0 0 ... 0 0 1]]\n"
     ]
    }
   ],
   "source": [
    "features_vector = CountVectorizer()\n",
    "count_matrix = features_vector.fit_transform(courses['studentID with subject'])\n",
    "print(\"Count Matrix : \",count_matrix.toarray())\n",
    "cosine_simi = cosine_similarity(count_matrix)"
   ]
  },
  {
   "cell_type": "code",
   "execution_count": 13,
   "id": "a93755a0",
   "metadata": {},
   "outputs": [
    {
     "name": "stdout",
     "output_type": "stream",
     "text": [
      "Enter Your completed  subject: chemistry\n",
      "--------------\n",
      "|--Recommendation course with previous student's subject :>>>>bsc --||--  0.9999999999999998\n",
      "--------------\n",
      "|--Recommendation course with previous student's subject :>>>>btech --||--  0.4999999999999999\n",
      "--------------\n",
      "|--Recommendation course with previous student's subject :>>>>bsc --||--  0.4999999999999999\n",
      "--------------\n",
      "|--Recommendation course with previous student's subject :>>>>bsc --||--  0.4999999999999999\n",
      "--------------\n",
      "|--Recommendation course with previous student's subject :>>>>bsc --||--  0.4999999999999999\n",
      "--------------\n",
      "|--Recommendation course with previous student's subject :>>>>btech --||--  0.4999999999999999\n",
      "--------------\n",
      "|--Recommendation course with previous student's subject :>>>>bsc --||--  0.4999999999999999\n",
      "--------------\n",
      "|--Recommendation course with previous student's subject :>>>>btech --||--  0.4999999999999999\n"
     ]
    }
   ],
   "source": [
    "student_input = input(\"Enter Your completed  subject: \")\n",
    "student_previous_subject = student_input\n",
    "\n",
    "def get_index_from_medicine(course):\n",
    "    return courses[courses.subject == course][\"indexValue\"].values[0]\n",
    "course_index = get_index_from_medicine(student_previous_subject)\n",
    "\n",
    "similar_medicine = list(enumerate(cosine_simi[course_index]))\n",
    "sorted_similar_course = sorted(similar_medicine, key=lambda x:x[1], reverse=True)\n",
    "\n",
    "def get_course_from_index(index):\n",
    "    return courses[courses.index == index][\"course\"].values[0]\n",
    "i=0\n",
    "for course_list in sorted_similar_course:\n",
    "    print(\"--------------\")\n",
    "    print(\"|--Recommendation course with previous student's subject :>>>>\"+get_course_from_index(course_list[0])+\" --||-- \",course_list[1])\n",
    "    i=i+1\n",
    "    if i>7:\n",
    "        break\n",
    "        \n",
    "    \n",
    "    "
   ]
  },
  {
   "cell_type": "code",
   "execution_count": null,
   "id": "074229c6",
   "metadata": {},
   "outputs": [],
   "source": []
  },
  {
   "cell_type": "code",
   "execution_count": null,
   "id": "961209e9",
   "metadata": {},
   "outputs": [],
   "source": []
  },
  {
   "cell_type": "code",
   "execution_count": null,
   "id": "341a3453",
   "metadata": {},
   "outputs": [],
   "source": []
  }
 ],
 "metadata": {
  "kernelspec": {
   "display_name": "Python 3 (ipykernel)",
   "language": "python",
   "name": "python3"
  },
  "language_info": {
   "codemirror_mode": {
    "name": "ipython",
    "version": 3
   },
   "file_extension": ".py",
   "mimetype": "text/x-python",
   "name": "python",
   "nbconvert_exporter": "python",
   "pygments_lexer": "ipython3",
   "version": "3.9.7"
  }
 },
 "nbformat": 4,
 "nbformat_minor": 5
}
